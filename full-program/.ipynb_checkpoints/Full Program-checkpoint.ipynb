{
 "cells": [
  {
   "cell_type": "code",
   "execution_count": 1,
   "metadata": {},
   "outputs": [],
   "source": [
    "import cv2 as cv\n",
    "import numpy as np\n",
    "import scipy.linalg as la\n",
    "import scipy as sp\n",
    "import matplotlib.pyplot as plt\n",
    "from scipy.interpolate import griddata"
   ]
  },
  {
   "cell_type": "markdown",
   "metadata": {},
   "source": [
    "# Simple image displaying"
   ]
  },
  {
   "cell_type": "code",
   "execution_count": 2,
   "metadata": {},
   "outputs": [
    {
     "data": {
      "text/plain": [
       "<matplotlib.image.AxesImage at 0x7cf9baf96ac8>"
      ]
     },
     "execution_count": 2,
     "metadata": {},
     "output_type": "execute_result"
    },
    {
     "data": {
      "image/png": "[encoded data removed]",
      "text/plain": [
       "<Figure size 1080x576 with 2 Axes>"
      ]
     },
     "metadata": {
      "needs_background": "light"
     },
     "output_type": "display_data"
    }
   ],
   "source": [
    "w = 400\n",
    "h = 250\n",
    "\n",
    "cloud_1_raw = cv.imread(\"Images/cloud_1.png\")\n",
    "cloud_2_raw = cv.imread(\"Images/cloud_2.png\")\n",
    "cloud_1_raw = cv.resize(cloud_1_raw, (w, h))\n",
    "cloud_2_raw = cv.resize(cloud_2_raw, (w, h))\n",
    "\n",
    "R = np.zeros((h, w))\n",
    "T_raw = np.zeros((h, w))\n",
    "\n",
    "# Convert images to normalized 2D numpy arrays, with 1 for black\n",
    "for i in range(h):\n",
    "    for j in range(w):\n",
    "        R[i][j] = 1 - sum(cloud_1_raw[i][j]) // 665\n",
    "        T_raw[i][j] = 1 - sum(cloud_2_raw[i][j]) // 665\n",
    "\n",
    "plt.figure(figsize=(15, 8))\n",
    "plt.subplot(1, 2, 1)\n",
    "plt.imshow(R)\n",
    "plt.subplot(1, 2, 2)\n",
    "plt.imshow(T_raw)"
   ]
  },
  {
   "cell_type": "markdown",
   "metadata": {},
   "source": [
    "# Function definitions"
   ]
  },
  {
   "cell_type": "code",
   "execution_count": 37,
   "metadata": {},
   "outputs": [
    {
     "data": {
      "image/png": "[encoded data removed]",
      "text/plain": [
       "<Figure size 432x288 with 1 Axes>"
      ]
     },
     "metadata": {
      "needs_background": "light"
     },
     "output_type": "display_data"
    }
   ],
   "source": [
    "r = np.arange(h)\n",
    "c = np.arange(w)\n",
    "T = sp.interpolate.RectBivariateSpline(r, c, T_raw, s=1e-1) # Interpolation of our image\n",
    "\n",
    "# Plot the interpolation on a new grid to ensure it worked\n",
    "Img = T(np.linspace(0, h-1, h//10), np.linspace(0, w-1, w//10)) # evaluation of the function on the grid\n",
    "plt.imshow(Img) # drawing the function\n",
    "plt.show()"
   ]
  },
  {
   "cell_type": "code",
   "execution_count": 33,
   "metadata": {
    "scrolled": true
   },
   "outputs": [
    {
     "data": {
      "image/png": "[encoded data removed]",
      "text/plain": [
       "<Figure size 432x288 with 1 Axes>"
      ]
     },
     "metadata": {
      "needs_background": "light"
     },
     "output_type": "display_data"
    }
   ],
   "source": [
    "# Linearly transforms interpolated function T from parameters p and returns new function that works on integers/numpc arracs\n",
    "# p = p1, p2, p3, p4, p5, p6\n",
    "# p1-p4 form a matrix:\n",
    "# (p1 p2)\n",
    "# (p3 p4)\n",
    "# Which defines a linear transformation about the center, (p5, p6) is translation in (row, column)\n",
    "def trafo(T, p, w, h):\n",
    "    def mapped_T(r, c):\n",
    "        if isinstance(r, (int, float)) and isinstance(r, (float, int)):\n",
    "            # Translate to center\n",
    "            r0 = r - h // 2\n",
    "            c0 = c - w // 2\n",
    "\n",
    "            #Applc transformation and translation\n",
    "            r = p[0] * r0 + p[1] * c0 + h // 2 - p[4]\n",
    "            c = p[2] * r0 + p[3] * c0 + w // 2 - p[5]\n",
    "\n",
    "            return T(r, c)\n",
    "        elif isinstance(r, np.ndarray) and isinstance(r, np.ndarray):\n",
    "            # We need to handle broadcasting ourselves to avoid skewing\n",
    "            out_grid = np.zeros((len(r), len(c)))\n",
    "            for ri in range(len(r)):\n",
    "                for ci in range(len(c)):\n",
    "                    # Translate to center\n",
    "                    r0 = r[ri] - h // 2\n",
    "                    c0 = c[ci] - w // 2\n",
    "\n",
    "                    #Applc transformation and translation\n",
    "                    rf = p[0] * r0 + p[1] * c0 + h // 2 - p[4]\n",
    "                    cf = p[2] * r0 + p[3] * c0 + w // 2 - p[5]\n",
    "\n",
    "                    out_grid[ri][ci] = T(rf, cf)\n",
    "            return out_grid\n",
    "            \n",
    "    return mapped_T\n",
    "\n",
    "T_transformed = trafo(T, [1.5, .2, 0, 1.5, 0, 50], w, h)\n",
    "# Plot the transformed T\n",
    "Z = T_transformed(np.linspace(0, h-1, h//10), np.linspace(0, w-1, w//10)) # evaluation of the function on the grid\n",
    "plt.imshow(Z) # drawing the function\n",
    "plt.show()"
   ]
  },
  {
   "cell_type": "code",
   "execution_count": 24,
   "metadata": {},
   "outputs": [],
   "source": [
    "# The \"cost\" associated with a particular transformation\n",
    "# TODO: implement spline-based transformations to allow derivatives to be computed\n",
    "# With jacobian, cost function is easy to evaluate"
   ]
  },
  {
   "cell_type": "code",
   "execution_count": null,
   "metadata": {},
   "outputs": [],
   "source": [
    "# To optimize the cost based on parameters, simply pass to scipy optimize."
   ]
  }
 ],
 "metadata": {
  "kernelspec": {
   "display_name": "Python 3",
   "language": "python",
   "name": "python3"
  },
  "language_info": {
   "codemirror_mode": {
    "name": "ipython",
    "version": 3
   },
   "file_extension": ".py",
   "mimetype": "text/x-python",
   "name": "python",
   "nbconvert_exporter": "python",
   "pygments_lexer": "ipython3",
   "version": "3.7.3"
  }
 },
 "nbformat": 4,
 "nbformat_minor": 2
}
