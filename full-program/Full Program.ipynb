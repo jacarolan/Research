{
 "cells": [
  {
   "cell_type": "code",
   "execution_count": 6,
   "metadata": {},
   "outputs": [],
   "source": [
    "import cv2 as cv\n",
    "import numpy as np\n",
    "import scipy.linalg as la\n",
    "import scipy as sp\n",
    "import matplotlib.pyplot as plt\n",
    "from scipy.interpolate import griddata"
   ]
  },
  {
   "cell_type": "markdown",
   "metadata": {},
   "source": [
    "# Simple image displaying"
   ]
  },
  {
   "cell_type": "code",
   "execution_count": 11,
   "metadata": {},
   "outputs": [
    {
     "data": {
      "text/plain": [
       "<matplotlib.image.AxesImage at 0x7f01ef586c10>"
      ]
     },
     "execution_count": 11,
     "metadata": {},
     "output_type": "execute_result"
    },
    {
     "data": {
      "image/png": "[encoded data removed]",
      "text/plain": [
       "<Figure size 1080x576 with 2 Axes>"
      ]
     },
     "metadata": {
      "needs_background": "light"
     },
     "output_type": "display_data"
    }
   ],
   "source": [
    "w = 400\n",
    "h = 250\n",
    "\n",
    "cloud_1_raw = cv.imread(\"Images/cloud_1.png\")\n",
    "cloud_2_raw = cv.imread(\"Images/cloud_2.png\")\n",
    "cloud_1_raw = cv.resize(cloud_1_raw, (w, h))\n",
    "cloud_2_raw = cv.resize(cloud_2_raw, (w, h))\n",
    "\n",
    "R = np.zeros((h, w))\n",
    "T_raw = np.zeros((h, w))\n",
    "\n",
    "# Convert images to normalized 2D numpy arrays\n",
    "for i in range(h):\n",
    "    for j in range(w):\n",
    "        R[i][j] = sum(cloud_1_raw[i][j]) // 665\n",
    "        T_raw[i][j] = sum(cloud_2_raw[i][j]) // 665\n",
    "\n",
    "plt.figure(figsize=(15, 8))\n",
    "plt.subplot(1, 2, 1)\n",
    "plt.imshow(R)\n",
    "plt.subplot(1, 2, 2)\n",
    "plt.imshow(T_raw)"
   ]
  },
  {
   "cell_type": "markdown",
   "metadata": {},
   "source": [
    "# Function definitions"
   ]
  },
  {
   "cell_type": "code",
   "execution_count": 23,
   "metadata": {},
   "outputs": [
    {
     "data": {
      "image/png": "[encoded data removed]",
      "text/plain": [
       "<Figure size 432x288 with 1 Axes>"
      ]
     },
     "metadata": {
      "needs_background": "light"
     },
     "output_type": "display_data"
    }
   ],
   "source": [
    "x = np.arange(h) # These are flipped because our \"image\" is a matrix\n",
    "y = np.arange(w)\n",
    "T = sp.interpolate.RectBivariateSpline(x, y, T_raw) # Interpolation of our image\n",
    "\n",
    "# Plot the interpolation on a new grid to ensure it worked\n",
    "Z = T(np.linspace(0, h-1, h//10), np.linspace(0, w-1, w//10)) # evaluation of the function on the grid\n",
    "plt.imshow(Z) # drawing the function\n",
    "plt.show()"
   ]
  },
  {
   "cell_type": "code",
   "execution_count": 35,
   "metadata": {},
   "outputs": [
    {
     "name": "stdout",
     "output_type": "stream",
     "text": [
      "[[1.]]\n",
      "[[  0.      0.      0.      0.      0.      0.      0.      0.      0.\n",
      "    0.      0.      0.      0.      0.      0.      0.      0.      0.\n",
      "    0.      0.      0.      0.      0.      0.      0.      0.      0.\n",
      "    0.      0.      0.      0.      0.      0.      0.      0.      0.\n",
      "    0.      0.      0.      0.   ]\n",
      " [ 10.375  10.375  10.375  10.375  10.375  10.375  10.375  10.375  10.375\n",
      "   10.375  10.375  10.375  10.375  10.375  10.375  10.375  10.375  10.375\n",
      "   10.375  10.375  10.375  10.375  10.375  10.375  10.375  10.375  10.375\n",
      "   10.375  10.375  10.375  10.375  10.375  10.375  10.375  10.375  10.375\n",
      "   10.375  10.375  10.375  10.375]\n",
      " [ 20.75   20.75   20.75   20.75   20.75   20.75   20.75   20.75   20.75\n",
      "   20.75   20.75   20.75   20.75   20.75   20.75   20.75   20.75   20.75\n",
      "   20.75   20.75   20.75   20.75   20.75   20.75   20.75   20.75   20.75\n",
      "   20.75   20.75   20.75   20.75   20.75   20.75   20.75   20.75   20.75\n",
      "   20.75   20.75   20.75   20.75 ]\n",
      " [ 31.125  31.125  31.125  31.125  31.125  31.125  31.125  31.125  31.125\n",
      "   31.125  31.125  31.125  31.125  31.125  31.125  31.125  31.125  31.125\n",
      "   31.125  31.125  31.125  31.125  31.125  31.125  31.125  31.125  31.125\n",
      "   31.125  31.125  31.125  31.125  31.125  31.125  31.125  31.125  31.125\n",
      "   31.125  31.125  31.125  31.125]\n",
      " [ 41.5    41.5    41.5    41.5    41.5    41.5    41.5    41.5    41.5\n",
      "   41.5    41.5    41.5    41.5    41.5    41.5    41.5    41.5    41.5\n",
      "   41.5    41.5    41.5    41.5    41.5    41.5    41.5    41.5    41.5\n",
      "   41.5    41.5    41.5    41.5    41.5    41.5    41.5    41.5    41.5\n",
      "   41.5    41.5    41.5    41.5  ]\n",
      " [ 51.875  51.875  51.875  51.875  51.875  51.875  51.875  51.875  51.875\n",
      "   51.875  51.875  51.875  51.875  51.875  51.875  51.875  51.875  51.875\n",
      "   51.875  51.875  51.875  51.875  51.875  51.875  51.875  51.875  51.875\n",
      "   51.875  51.875  51.875  51.875  51.875  51.875  51.875  51.875  51.875\n",
      "   51.875  51.875  51.875  51.875]\n",
      " [ 62.25   62.25   62.25   62.25   62.25   62.25   62.25   62.25   62.25\n",
      "   62.25   62.25   62.25   62.25   62.25   62.25   62.25   62.25   62.25\n",
      "   62.25   62.25   62.25   62.25   62.25   62.25   62.25   62.25   62.25\n",
      "   62.25   62.25   62.25   62.25   62.25   62.25   62.25   62.25   62.25\n",
      "   62.25   62.25   62.25   62.25 ]\n",
      " [ 72.625  72.625  72.625  72.625  72.625  72.625  72.625  72.625  72.625\n",
      "   72.625  72.625  72.625  72.625  72.625  72.625  72.625  72.625  72.625\n",
      "   72.625  72.625  72.625  72.625  72.625  72.625  72.625  72.625  72.625\n",
      "   72.625  72.625  72.625  72.625  72.625  72.625  72.625  72.625  72.625\n",
      "   72.625  72.625  72.625  72.625]\n",
      " [ 83.     83.     83.     83.     83.     83.     83.     83.     83.\n",
      "   83.     83.     83.     83.     83.     83.     83.     83.     83.\n",
      "   83.     83.     83.     83.     83.     83.     83.     83.     83.\n",
      "   83.     83.     83.     83.     83.     83.     83.     83.     83.\n",
      "   83.     83.     83.     83.   ]\n",
      " [ 93.375  93.375  93.375  93.375  93.375  93.375  93.375  93.375  93.375\n",
      "   93.375  93.375  93.375  93.375  93.375  93.375  93.375  93.375  93.375\n",
      "   93.375  93.375  93.375  93.375  93.375  93.375  93.375  93.375  93.375\n",
      "   93.375  93.375  93.375  93.375  93.375  93.375  93.375  93.375  93.375\n",
      "   93.375  93.375  93.375  93.375]\n",
      " [103.75  103.75  103.75  103.75  103.75  103.75  103.75  103.75  103.75\n",
      "  103.75  103.75  103.75  103.75  103.75  103.75  103.75  103.75  103.75\n",
      "  103.75  103.75  103.75  103.75  103.75  103.75  103.75  103.75  103.75\n",
      "  103.75  103.75  103.75  103.75  103.75  103.75  103.75  103.75  103.75\n",
      "  103.75  103.75  103.75  103.75 ]\n",
      " [114.125 114.125 114.125 114.125 114.125 114.125 114.125 114.125 114.125\n",
      "  114.125 114.125 114.125 114.125 114.125 114.125 114.125 114.125 114.125\n",
      "  114.125 114.125 114.125 114.125 114.125 114.125 114.125 114.125 114.125\n",
      "  114.125 114.125 114.125 114.125 114.125 114.125 114.125 114.125 114.125\n",
      "  114.125 114.125 114.125 114.125]\n",
      " [124.5   124.5   124.5   124.5   124.5   124.5   124.5   124.5   124.5\n",
      "  124.5   124.5   124.5   124.5   124.5   124.5   124.5   124.5   124.5\n",
      "  124.5   124.5   124.5   124.5   124.5   124.5   124.5   124.5   124.5\n",
      "  124.5   124.5   124.5   124.5   124.5   124.5   124.5   124.5   124.5\n",
      "  124.5   124.5   124.5   124.5  ]\n",
      " [134.875 134.875 134.875 134.875 134.875 134.875 134.875 134.875 134.875\n",
      "  134.875 134.875 134.875 134.875 134.875 134.875 134.875 134.875 134.875\n",
      "  134.875 134.875 134.875 134.875 134.875 134.875 134.875 134.875 134.875\n",
      "  134.875 134.875 134.875 134.875 134.875 134.875 134.875 134.875 134.875\n",
      "  134.875 134.875 134.875 134.875]\n",
      " [145.25  145.25  145.25  145.25  145.25  145.25  145.25  145.25  145.25\n",
      "  145.25  145.25  145.25  145.25  145.25  145.25  145.25  145.25  145.25\n",
      "  145.25  145.25  145.25  145.25  145.25  145.25  145.25  145.25  145.25\n",
      "  145.25  145.25  145.25  145.25  145.25  145.25  145.25  145.25  145.25\n",
      "  145.25  145.25  145.25  145.25 ]\n",
      " [155.625 155.625 155.625 155.625 155.625 155.625 155.625 155.625 155.625\n",
      "  155.625 155.625 155.625 155.625 155.625 155.625 155.625 155.625 155.625\n",
      "  155.625 155.625 155.625 155.625 155.625 155.625 155.625 155.625 155.625\n",
      "  155.625 155.625 155.625 155.625 155.625 155.625 155.625 155.625 155.625\n",
      "  155.625 155.625 155.625 155.625]\n",
      " [166.    166.    166.    166.    166.    166.    166.    166.    166.\n",
      "  166.    166.    166.    166.    166.    166.    166.    166.    166.\n",
      "  166.    166.    166.    166.    166.    166.    166.    166.    166.\n",
      "  166.    166.    166.    166.    166.    166.    166.    166.    166.\n",
      "  166.    166.    166.    166.   ]\n",
      " [176.375 176.375 176.375 176.375 176.375 176.375 176.375 176.375 176.375\n",
      "  176.375 176.375 176.375 176.375 176.375 176.375 176.375 176.375 176.375\n",
      "  176.375 176.375 176.375 176.375 176.375 176.375 176.375 176.375 176.375\n",
      "  176.375 176.375 176.375 176.375 176.375 176.375 176.375 176.375 176.375\n",
      "  176.375 176.375 176.375 176.375]\n",
      " [186.75  186.75  186.75  186.75  186.75  186.75  186.75  186.75  186.75\n",
      "  186.75  186.75  186.75  186.75  186.75  186.75  186.75  186.75  186.75\n",
      "  186.75  186.75  186.75  186.75  186.75  186.75  186.75  186.75  186.75\n",
      "  186.75  186.75  186.75  186.75  186.75  186.75  186.75  186.75  186.75\n",
      "  186.75  186.75  186.75  186.75 ]\n",
      " [197.125 197.125 197.125 197.125 197.125 197.125 197.125 197.125 197.125\n",
      "  197.125 197.125 197.125 197.125 197.125 197.125 197.125 197.125 197.125\n",
      "  197.125 197.125 197.125 197.125 197.125 197.125 197.125 197.125 197.125\n",
      "  197.125 197.125 197.125 197.125 197.125 197.125 197.125 197.125 197.125\n",
      "  197.125 197.125 197.125 197.125]\n",
      " [207.5   207.5   207.5   207.5   207.5   207.5   207.5   207.5   207.5\n",
      "  207.5   207.5   207.5   207.5   207.5   207.5   207.5   207.5   207.5\n",
      "  207.5   207.5   207.5   207.5   207.5   207.5   207.5   207.5   207.5\n",
      "  207.5   207.5   207.5   207.5   207.5   207.5   207.5   207.5   207.5\n",
      "  207.5   207.5   207.5   207.5  ]\n",
      " [217.875 217.875 217.875 217.875 217.875 217.875 217.875 217.875 217.875\n",
      "  217.875 217.875 217.875 217.875 217.875 217.875 217.875 217.875 217.875\n",
      "  217.875 217.875 217.875 217.875 217.875 217.875 217.875 217.875 217.875\n",
      "  217.875 217.875 217.875 217.875 217.875 217.875 217.875 217.875 217.875\n",
      "  217.875 217.875 217.875 217.875]\n",
      " [228.25  228.25  228.25  228.25  228.25  228.25  228.25  228.25  228.25\n",
      "  228.25  228.25  228.25  228.25  228.25  228.25  228.25  228.25  228.25\n",
      "  228.25  228.25  228.25  228.25  228.25  228.25  228.25  228.25  228.25\n",
      "  228.25  228.25  228.25  228.25  228.25  228.25  228.25  228.25  228.25\n",
      "  228.25  228.25  228.25  228.25 ]\n",
      " [238.625 238.625 238.625 238.625 238.625 238.625 238.625 238.625 238.625\n",
      "  238.625 238.625 238.625 238.625 238.625 238.625 238.625 238.625 238.625\n",
      "  238.625 238.625 238.625 238.625 238.625 238.625 238.625 238.625 238.625\n",
      "  238.625 238.625 238.625 238.625 238.625 238.625 238.625 238.625 238.625\n",
      "  238.625 238.625 238.625 238.625]\n",
      " [249.    249.    249.    249.    249.    249.    249.    249.    249.\n",
      "  249.    249.    249.    249.    249.    249.    249.    249.    249.\n",
      "  249.    249.    249.    249.    249.    249.    249.    249.    249.\n",
      "  249.    249.    249.    249.    249.    249.    249.    249.    249.\n",
      "  249.    249.    249.    249.   ]]\n"
     ]
    },
    {
     "ename": "ValueError",
     "evalue": "Error code returned by bispev: 10",
     "output_type": "error",
     "traceback": [
      "\u001b[0;31m---------------------------------------------------------------------------\u001b[0m",
      "\u001b[0;31mValueError\u001b[0m                                Traceback (most recent call last)",
      "\u001b[0;32m<ipython-input-35-815a9bf35ba5>\u001b[0m in \u001b[0;36m<module>\u001b[0;34m\u001b[0m\n\u001b[1;32m     22\u001b[0m \u001b[0mT_transformed\u001b[0m \u001b[0;34m=\u001b[0m \u001b[0mtrafo\u001b[0m\u001b[0;34m(\u001b[0m\u001b[0mT\u001b[0m\u001b[0;34m,\u001b[0m \u001b[0;34m[\u001b[0m\u001b[0;36m1\u001b[0m\u001b[0;34m,\u001b[0m \u001b[0;36m0\u001b[0m\u001b[0;34m,\u001b[0m \u001b[0;36m0\u001b[0m\u001b[0;34m,\u001b[0m \u001b[0;36m1\u001b[0m\u001b[0;34m,\u001b[0m \u001b[0;36m0\u001b[0m\u001b[0;34m,\u001b[0m \u001b[0;36m0\u001b[0m\u001b[0;34m]\u001b[0m\u001b[0;34m,\u001b[0m \u001b[0mw\u001b[0m\u001b[0;34m,\u001b[0m \u001b[0mh\u001b[0m\u001b[0;34m)\u001b[0m\u001b[0;34m\u001b[0m\u001b[0;34m\u001b[0m\u001b[0m\n\u001b[1;32m     23\u001b[0m \u001b[0;31m# Plot the identity transformed T\u001b[0m\u001b[0;34m\u001b[0m\u001b[0;34m\u001b[0m\u001b[0;34m\u001b[0m\u001b[0m\n\u001b[0;32m---> 24\u001b[0;31m \u001b[0mZ\u001b[0m \u001b[0;34m=\u001b[0m \u001b[0mT_transformed\u001b[0m\u001b[0;34m(\u001b[0m\u001b[0mnp\u001b[0m\u001b[0;34m.\u001b[0m\u001b[0mlinspace\u001b[0m\u001b[0;34m(\u001b[0m\u001b[0;36m0\u001b[0m\u001b[0;34m,\u001b[0m \u001b[0mh\u001b[0m\u001b[0;34m-\u001b[0m\u001b[0;36m1\u001b[0m\u001b[0;34m,\u001b[0m \u001b[0mh\u001b[0m\u001b[0;34m//\u001b[0m\u001b[0;36m10\u001b[0m\u001b[0;34m)\u001b[0m\u001b[0;34m[\u001b[0m\u001b[0;34m:\u001b[0m\u001b[0;34m,\u001b[0m \u001b[0;32mNone\u001b[0m\u001b[0;34m]\u001b[0m\u001b[0;34m,\u001b[0m \u001b[0mnp\u001b[0m\u001b[0;34m.\u001b[0m\u001b[0mlinspace\u001b[0m\u001b[0;34m(\u001b[0m\u001b[0;36m0\u001b[0m\u001b[0;34m,\u001b[0m \u001b[0mw\u001b[0m\u001b[0;34m-\u001b[0m\u001b[0;36m1\u001b[0m\u001b[0;34m,\u001b[0m \u001b[0mw\u001b[0m\u001b[0;34m//\u001b[0m\u001b[0;36m10\u001b[0m\u001b[0;34m)\u001b[0m\u001b[0;34m[\u001b[0m\u001b[0;32mNone\u001b[0m\u001b[0;34m,\u001b[0m \u001b[0;34m:\u001b[0m\u001b[0;34m]\u001b[0m\u001b[0;34m)\u001b[0m \u001b[0;31m# evaluation of the function on the grid\u001b[0m\u001b[0;34m\u001b[0m\u001b[0;34m\u001b[0m\u001b[0m\n\u001b[0m\u001b[1;32m     25\u001b[0m \u001b[0mplt\u001b[0m\u001b[0;34m.\u001b[0m\u001b[0mimshow\u001b[0m\u001b[0;34m(\u001b[0m\u001b[0mZ\u001b[0m\u001b[0;34m)\u001b[0m \u001b[0;31m# drawing the function\u001b[0m\u001b[0;34m\u001b[0m\u001b[0;34m\u001b[0m\u001b[0m\n\u001b[1;32m     26\u001b[0m \u001b[0mplt\u001b[0m\u001b[0;34m.\u001b[0m\u001b[0mshow\u001b[0m\u001b[0;34m(\u001b[0m\u001b[0;34m)\u001b[0m\u001b[0;34m\u001b[0m\u001b[0;34m\u001b[0m\u001b[0m\n",
      "\u001b[0;32m<ipython-input-35-815a9bf35ba5>\u001b[0m in \u001b[0;36mmapped_T\u001b[0;34m(x, y)\u001b[0m\n\u001b[1;32m     15\u001b[0m         \u001b[0my\u001b[0m \u001b[0;34m=\u001b[0m \u001b[0mp\u001b[0m\u001b[0;34m[\u001b[0m\u001b[0;36m2\u001b[0m\u001b[0;34m]\u001b[0m \u001b[0;34m*\u001b[0m \u001b[0mx0\u001b[0m \u001b[0;34m+\u001b[0m \u001b[0mp\u001b[0m\u001b[0;34m[\u001b[0m\u001b[0;36m3\u001b[0m\u001b[0;34m]\u001b[0m \u001b[0;34m*\u001b[0m \u001b[0my0\u001b[0m \u001b[0;34m+\u001b[0m \u001b[0mw\u001b[0m \u001b[0;34m//\u001b[0m \u001b[0;36m2\u001b[0m \u001b[0;34m-\u001b[0m \u001b[0mp\u001b[0m\u001b[0;34m[\u001b[0m\u001b[0;36m5\u001b[0m\u001b[0;34m]\u001b[0m\u001b[0;34m\u001b[0m\u001b[0;34m\u001b[0m\u001b[0m\n\u001b[1;32m     16\u001b[0m         \u001b[0mprint\u001b[0m\u001b[0;34m(\u001b[0m\u001b[0mx\u001b[0m\u001b[0;34m)\u001b[0m\u001b[0;34m\u001b[0m\u001b[0;34m\u001b[0m\u001b[0m\n\u001b[0;32m---> 17\u001b[0;31m         \u001b[0;32mreturn\u001b[0m \u001b[0mT\u001b[0m\u001b[0;34m(\u001b[0m\u001b[0mx\u001b[0m\u001b[0;34m,\u001b[0m \u001b[0my\u001b[0m\u001b[0;34m)\u001b[0m\u001b[0;34m\u001b[0m\u001b[0;34m\u001b[0m\u001b[0m\n\u001b[0m\u001b[1;32m     18\u001b[0m     \u001b[0;32mreturn\u001b[0m \u001b[0mmapped_T\u001b[0m\u001b[0;34m\u001b[0m\u001b[0;34m\u001b[0m\u001b[0m\n\u001b[1;32m     19\u001b[0m \u001b[0;34m\u001b[0m\u001b[0m\n",
      "\u001b[0;32m~/Documents/Research/env-SLT/lib/python3.7/site-packages/scipy/interpolate/fitpack2.py\u001b[0m in \u001b[0;36m__call__\u001b[0;34m(self, x, y, dx, dy, grid)\u001b[0m\n\u001b[1;32m    848\u001b[0m                 \u001b[0mz\u001b[0m\u001b[0;34m,\u001b[0m \u001b[0mier\u001b[0m \u001b[0;34m=\u001b[0m \u001b[0mdfitpack\u001b[0m\u001b[0;34m.\u001b[0m\u001b[0mbispev\u001b[0m\u001b[0;34m(\u001b[0m\u001b[0mtx\u001b[0m\u001b[0;34m,\u001b[0m \u001b[0mty\u001b[0m\u001b[0;34m,\u001b[0m \u001b[0mc\u001b[0m\u001b[0;34m,\u001b[0m \u001b[0mkx\u001b[0m\u001b[0;34m,\u001b[0m \u001b[0mky\u001b[0m\u001b[0;34m,\u001b[0m \u001b[0mx\u001b[0m\u001b[0;34m,\u001b[0m \u001b[0my\u001b[0m\u001b[0;34m)\u001b[0m\u001b[0;34m\u001b[0m\u001b[0;34m\u001b[0m\u001b[0m\n\u001b[1;32m    849\u001b[0m                 \u001b[0;32mif\u001b[0m \u001b[0;32mnot\u001b[0m \u001b[0mier\u001b[0m \u001b[0;34m==\u001b[0m \u001b[0;36m0\u001b[0m\u001b[0;34m:\u001b[0m\u001b[0;34m\u001b[0m\u001b[0;34m\u001b[0m\u001b[0m\n\u001b[0;32m--> 850\u001b[0;31m                     \u001b[0;32mraise\u001b[0m \u001b[0mValueError\u001b[0m\u001b[0;34m(\u001b[0m\u001b[0;34m\"Error code returned by bispev: %s\"\u001b[0m \u001b[0;34m%\u001b[0m \u001b[0mier\u001b[0m\u001b[0;34m)\u001b[0m\u001b[0;34m\u001b[0m\u001b[0;34m\u001b[0m\u001b[0m\n\u001b[0m\u001b[1;32m    851\u001b[0m         \u001b[0;32melse\u001b[0m\u001b[0;34m:\u001b[0m\u001b[0;34m\u001b[0m\u001b[0;34m\u001b[0m\u001b[0m\n\u001b[1;32m    852\u001b[0m             \u001b[0;31m# standard Numpy broadcasting\u001b[0m\u001b[0;34m\u001b[0m\u001b[0;34m\u001b[0m\u001b[0;34m\u001b[0m\u001b[0m\n",
      "\u001b[0;31mValueError\u001b[0m: Error code returned by bispev: 10"
     ]
    }
   ],
   "source": [
    "# Linearly transforms interpolated function T from parameters p and returns new function\n",
    "# p = p1, p2, p3, p4, p5, p6\n",
    "# p1-p4 form a matrix:\n",
    "# (p1 p2)\n",
    "# (p3 p4)\n",
    "# Which defines a linear transformation about the center, (p5, p6) is translation\n",
    "def trafo(T, p, w, h):\n",
    "    def mapped_T(x, y):\n",
    "        #Translate to center\n",
    "        x0 = x - h // 2\n",
    "        y0 = y - w // 2\n",
    "        \n",
    "        #Apply transformation and translation\n",
    "        x = p[0] * x0 + p[1] * y0 + h // 2 - p[4]\n",
    "        y = p[2] * x0 + p[3] * y0 + w // 2 - p[5]\n",
    "        print(x)\n",
    "        return T(x, y)\n",
    "    return mapped_T\n",
    "\n",
    "T_transformed = trafo(T, [1, 0, 0, 1, 0, 0], w, h)\n",
    "# Plot the identity transformed T\n",
    "Z = T_transformed(np.linspace(0, h-1, h//10)[:, None], np.linspace(0, w-1, w//10)[None, :]) # evaluation of the function on the grid\n",
    "plt.imshow(Z) # drawing the function\n",
    "plt.show()"
   ]
  }
 ],
 "metadata": {
  "kernelspec": {
   "display_name": "Python 3",
   "language": "python",
   "name": "python3"
  },
  "language_info": {
   "codemirror_mode": {
    "name": "ipython",
    "version": 3
   },
   "file_extension": ".py",
   "mimetype": "text/x-python",
   "name": "python",
   "nbconvert_exporter": "python",
   "pygments_lexer": "ipython3",
   "version": "3.7.4"
  }
 },
 "nbformat": 4,
 "nbformat_minor": 2
}
